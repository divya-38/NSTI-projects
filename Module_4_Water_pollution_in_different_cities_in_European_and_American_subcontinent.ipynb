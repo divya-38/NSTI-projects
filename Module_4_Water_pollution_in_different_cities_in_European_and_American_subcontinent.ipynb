{
  "nbformat": 4,
  "nbformat_minor": 0,
  "metadata": {
    "colab": {
      "provenance": []
    },
    "kernelspec": {
      "name": "python3",
      "display_name": "Python 3"
    },
    "language_info": {
      "name": "python"
    }
  },
  "cells": [
    {
      "cell_type": "code",
      "execution_count": null,
      "metadata": {
        "id": "0H6XU3ih7jUm"
      },
      "outputs": [],
      "source": [
        "# IMPORT LIBRARIES\n",
        "import pandas as pd\n",
        "import numpy as np\n",
        "import matplotlib.pyplot as plt\n",
        "\n",
        "# Load the dataset\n",
        "df = pd.read_csv(r\"C:\\Users\\DIVYA GOEL\\Downloads\\archive (2)\\Cities1.csv\")\n",
        "\n",
        "# Quick look at the data\n",
        "print(df)            # entire DataFrame\n",
        "df.info()            # structure & dtypes\n",
        "print(df.tail())     # last 5 rows\n",
        "\n",
        "# Group-by analyses (mean WaterPollution)\n",
        "water_poll = df.groupby(\"Region\")[\"WaterPollution\"].mean()\n",
        "print(\"\\nMean WaterPollution by Region:\\n\", water_poll)\n",
        "\n",
        "water_pol = df.groupby(\"City\")[\"WaterPollution\"].mean()\n",
        "print(\"\\nMean WaterPollution by City:\\n\", water_pol)\n",
        "\n",
        "water_po = df.groupby(\"Country\")[\"WaterPollution\"].mean()\n",
        "print(\"\\nMean WaterPollution by Country:\\n\", water_po)\n",
        "\n",
        "# More summaries\n",
        "print(\"\\nFirst 5 rows:\\n\", df.head())\n",
        "print(\"\\nDescriptive stats:\\n\", df.describe())\n",
        "\n",
        "# DISPLAY MISSING VALUES COUNT PER COLUMN\n",
        "print(\"\\nMissing values per column:\")\n",
        "print(df.isnull().sum())\n",
        "\n",
        "# PLOT LINE CHART: sum WaterPollution by Region (green)\n",
        "water_poll = df.groupby(\"Region\")[\"WaterPollution\"].sum()\n",
        "plt.figure(figsize=(8,5))\n",
        "water_poll.plot(kind='line', marker='o', color='green')\n",
        "plt.xlabel(\"Region\")\n",
        "plt.ylabel(\"WaterPollution\")\n",
        "plt.title(\"WaterPollution by Region\")\n",
        "plt.show()\n",
        "\n",
        "# PLOT LINE CHART: sum WaterPollution by Region (red)\n",
        "Water_poll = df.groupby(\"Region\")[\"WaterPollution\"].sum()\n",
        "plt.figure(figsize=(8,5))\n",
        "Water_poll.plot(kind='line', marker='o', color='red')\n",
        "plt.xlabel(\"Region\")\n",
        "plt.ylabel(\"WaterPollution\")\n",
        "plt.title(\"WATER POLLUTION TRENDS VS REGION\")\n",
        "plt.show()\n",
        "\n",
        "# Convert 'Date' column to datetime and re-inspect\n",
        "df['Date'] = pd.to_datetime(df['Date'])\n",
        "print(\"\\nAfter converting Date column:\")\n",
        "df.info()\n"
      ]
    }
  ]
}