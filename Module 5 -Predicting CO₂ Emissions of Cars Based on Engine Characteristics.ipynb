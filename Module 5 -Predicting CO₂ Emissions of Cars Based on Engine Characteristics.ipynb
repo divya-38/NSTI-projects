{
  "metadata": {
    "kernelspec": {
      "language": "python",
      "display_name": "Python 3",
      "name": "python3"
    },
    "language_info": {
      "name": "python",
      "version": "3.11.11",
      "mimetype": "text/x-python",
      "codemirror_mode": {
        "name": "ipython",
        "version": 3
      },
      "pygments_lexer": "ipython3",
      "nbconvert_exporter": "python",
      "file_extension": ".py"
    },
    "kaggle": {
      "accelerator": "none",
      "dataSources": [
        {
          "sourceId": 1399448,
          "sourceType": "datasetVersion",
          "datasetId": 817556
        }
      ],
      "dockerImageVersionId": 31040,
      "isInternetEnabled": true,
      "language": "python",
      "sourceType": "notebook",
      "isGpuEnabled": false
    },
    "colab": {
      "name": "Predict CO₂ Emissions of Cars|End-to-End|EDA-ML",
      "provenance": []
    }
  },
  "nbformat_minor": 0,
  "nbformat": 4,
  "cells": [
    {
      "source": [
        "import kagglehub\n",
        "debajyotipodder_co2_emission_by_vehicles_path = kagglehub.dataset_download('debajyotipodder/co2-emission-by-vehicles')\n",
        "\n",
        "print('Data source import complete.')\n"
      ],
      "metadata": {
        "id": "co8_mGjve4_e"
      },
      "cell_type": "code",
      "outputs": [],
      "execution_count": null
    },
    {
      "cell_type": "markdown",
      "source": [
        "<h1 style=\"\n",
        "  display: inline-block;\n",
        "  padding: 15px 30px;\n",
        "  background: linear-gradient(to right, #4A90E2, #357ABD);\n",
        "  color: white;\n",
        "  font-size: 24px;\n",
        "  font-weight: bold;\n",
        "  border-radius: 50px;\n",
        "  box-shadow: 0px 4px 10px rgba(0, 0, 0, 0.2);\n",
        "\">\n",
        "  Predicting CO₂ Emissions of Cars Based on Engine Characteristics\n",
        "</h1>"
      ],
      "metadata": {
        "id": "eZ8CKAmde4_f"
      }
    },
    {
      "cell_type": "markdown",
      "source": [
        "#  Objective\n",
        "The purpose of the project is to build a regression model that has the capability for predicting the CO₂ emission values (g/km) of various car models based on engine and fuel characteristics. This question is on the characteristics of cars that lead to more greenhouse gas emissions and thereby assist the manufacturers, policymakers, and consumers in choosing in an eco-friendly manner."
      ],
      "metadata": {
        "id": "B5IrT4hPe4_f"
      }
    },
    {
      "cell_type": "markdown",
      "source": [
        "#  Dataset Overview\n",
        "This dataset contains information about various vehicles' carbon dioxide (CO₂) emissions and fuel consumption.\n",
        "In the context of machine learning (ML), this dataset is often used to predict CO₂ emissions based on vehicle characteristics or to analyze the fuel efficiency of vehicles.\n",
        "The goal could be to predict CO₂ emissions or fuel consumption based on the features of the vehicles.\n",
        "There are a total of 7385 rows and 12 columns.\n",
        "\n",
        "| Column                            | Description                                      |\n",
        "| --------------------------------- | ------------------------------------------------ |\n",
        "| `Make`                            | Car manufacturer                                 |\n",
        "| `Model`                           | Car model                                        |\n",
        "| `Vehicle Class`                   | SUV, Sedan, etc.                                 |\n",
        "| `Engine Size (L)`                 | Engine displacement                              |\n",
        "| `Cylinders`                       | Number of engine cylinders                       |\n",
        "| `Transmission`                    | Type of transmission                             |\n",
        "| `Fuel Type`                       | Fuel used (Regular, Diesel, etc.)                |\n",
        "| `Fuel Consumption City (L/100km)` | Liters per 100 km in city                        |\n",
        "| `Fuel Consumption Hwy (L/100km)`  | On highway                                       |\n",
        "| `Fuel Consumption Comb (L/100km)` | Combined consumption                             |\n",
        "| `CO2 Emissions (g/km)`            | (y) **Target variable** – carbon dioxide emissions |\n",
        "\n"
      ],
      "metadata": {
        "id": "N0D_k3U6e4_f"
      }
    },
    {
      "cell_type": "markdown",
      "source": [
        "<div style=\"font-family: Arial; font-size: 15px; line-height: 1.6; background-color: #f8f9fa; border-left: 5px solid #0d6efd; padding: 15px;\">\n",
        "\n",
        "<h3 style=\"color: #0d6efd;\">🚗 Vehicle Attributes Reference</h3>\n",
        "\n",
        "<b>🔧 Model Abbreviations:</b><br>\n",
        "<ul>\n",
        "  <li><b>4WD / 4X4</b> = Four-wheel drive</li>\n",
        "  <li><b>AWD</b> = All-wheel drive</li>\n",
        "  <li><b>FFV</b> = Flexible-fuel vehicle</li>\n",
        "  <li><b>SWB</b> = Short wheelbase</li>\n",
        "  <li><b>LWB</b> = Long wheelbase</li>\n",
        "  <li><b>EWB</b> = Extended wheelbase</li>\n",
        "</ul>\n",
        "\n",
        "<b>⚙️ Transmission Types:</b><br>\n",
        "<ul>\n",
        "  <li><b>A</b> = Automatic</li>\n",
        "  <li><b>AM</b> = Automated manual</li>\n",
        "  <li><b>AS</b> = Automatic with select shift</li>\n",
        "  <li><b>AV</b> = Continuously variable</li>\n",
        "  <li><b>M</b> = Manual</li>\n",
        "  <li><b>3 - 10</b> = Number of gears</li>\n",
        "</ul>\n",
        "\n",
        "<b>⛽ Fuel Type Codes:</b><br>\n",
        "<ul>\n",
        "  <li><b>X</b> = Regular gasoline</li>\n",
        "  <li><b>Z</b> = Premium gasoline</li>\n",
        "  <li><b>D</b> = Diesel</li>\n",
        "  <li><b>E</b> = Ethanol (E85)</li>\n",
        "  <li><b>N</b> = Natural gas</li>\n",
        "</ul>\n",
        "\n",
        "<b>📉 Fuel Consumption:</b><br>\n",
        "City and highway fuel consumption ratings are shown in <b>litres per 100 km (L/100 km)</b>.  \n",
        "The <b>combined rating</b> (55% city, 45% highway) is given in both:\n",
        "<ul>\n",
        "  <li><b>L/100 km</b> — lower is better (less fuel used)</li>\n",
        "  <li><b>MPG (miles per gallon)</b> — higher is better (more efficient)</li>\n",
        "</ul>\n",
        "\n",
        "<b>🌿 CO₂ Emissions:</b><br>\n",
        "Tailpipe emissions of <b>carbon dioxide</b> (in grams per kilometre) during combined city & highway driving.\n",
        "</div>\n"
      ],
      "metadata": {
        "id": "RUam4HoGe4_g"
      }
    },
    {
      "cell_type": "markdown",
      "source": [
        "# Importing Necessary Libraries"
      ],
      "metadata": {
        "id": "Sq_Qqdute4_g"
      }
    },
    {
      "cell_type": "markdown",
      "source": [
        "<h1 style=\"\n",
        "  display: inline-block;\n",
        "  width: 90%;\n",
        "  padding: 30px 30px;\n",
        "  background: linear-gradient(to right, #6EC6FF, #4A90E2); /* Soft blue gradient */\n",
        "  color: white;\n",
        "  font-size: 24px;\n",
        "  font-weight: bold;\n",
        "  border-radius: 12px;\n",
        "  box-shadow: 0px 4px 10px rgba(0, 0, 0, 0.2);\n",
        "  text-align: center;\n",
        "\">\n",
        "  📦 Importing Necessary Libraries\n",
        "</h1>"
      ],
      "metadata": {
        "id": "p_9NnMhne4_g"
      }
    },
    {
      "cell_type": "code",
      "source": [
        "import numpy as np\n",
        "import pandas as pd\n",
        "\n",
        "import matplotlib.pyplot as plt\n",
        "import seaborn as sns\n",
        "\n",
        "import scipy.stats as stats\n",
        "%matplotlib inline\n",
        "\n",
        "from sklearn.preprocessing import PolynomialFeatures\n",
        "from sklearn.model_selection import train_test_split, GridSearchCV\n",
        "from sklearn.preprocessing import StandardScaler, MinMaxScaler\n",
        "\n",
        "from sklearn.linear_model import LinearRegression, Ridge, RidgeCV, Lasso, LassoCV, ElasticNet, ElasticNetCV\n",
        "\n",
        "from sklearn.model_selection import cross_val_score,cross_validate\n",
        "from sklearn.metrics import r2_score, mean_absolute_error, mean_squared_error\n",
        "\n",
        "from yellowbrick.regressor import ResidualsPlot, PredictionError\n",
        "\n",
        "import warnings\n",
        "warnings.filterwarnings(\"ignore\")\n"
      ],
      "metadata": {
        "trusted": true,
        "execution": {
          "iopub.status.busy": "2025-06-22T10:57:50.503855Z",
          "iopub.execute_input": "2025-06-22T10:57:50.504174Z",
          "iopub.status.idle": "2025-06-22T10:57:53.298742Z",
          "shell.execute_reply.started": "2025-06-22T10:57:50.504152Z",
          "shell.execute_reply": "2025-06-22T10:57:53.297047Z"
        },
        "id": "_DAjhBU1e4_g"
      },
      "outputs": [],
      "execution_count": null
    },
    {
      "cell_type": "markdown",
      "source": [
        "# Data Loading and Exploration"
      ],
      "metadata": {
        "id": "zQSCZ8DYe4_g"
      }
    },
    {
      "cell_type": "markdown",
      "source": [
        "<h1 style=\"\n",
        "  display: inline-block;\n",
        "  width: 90%;\n",
        "  padding: 30px 30px;\n",
        "  background: linear-gradient(to right, #6EC6FF, #4A90E2); /* Soft blue gradient */\n",
        "  color: white;\n",
        "  font-size: 24px;\n",
        "  font-weight: bold;\n",
        "  border-radius: 12px;\n",
        "  box-shadow: 0px 4px 10px rgba(0, 0, 0, 0.2);\n",
        "  text-align: center;\n",
        "\">\n",
        " ⚙️ Data Loading and Exploration\n",
        "</h1>"
      ],
      "metadata": {
        "id": "KBJ7ke-1e4_g"
      }
    },
    {
      "cell_type": "code",
      "source": [
        "carbon = pd.read_csv(\"/kaggle/input/co2-emission-by-vehicles/CO2 Emissions_Canada.csv\")\n",
        "print(\"Successfully_Loaded the dataset\")"
      ],
      "metadata": {
        "trusted": true,
        "execution": {
          "iopub.status.busy": "2025-06-22T10:57:53.300162Z",
          "iopub.execute_input": "2025-06-22T10:57:53.300541Z",
          "iopub.status.idle": "2025-06-22T10:57:53.357553Z",
          "shell.execute_reply.started": "2025-06-22T10:57:53.300521Z",
          "shell.execute_reply": "2025-06-22T10:57:53.35658Z"
        },
        "id": "oPBgjW-Se4_g"
      },
      "outputs": [],
      "execution_count": null
    },
    {
      "cell_type": "markdown",
      "source": [
        "<h2 style=\"\n",
        "  display: inline-block;\n",
        "  width: 90%;\n",
        "  padding: 15px 30px;\n",
        "  background: linear-gradient(to right, #393E46, #222831); /* Dark gradient */\n",
        "  color: white;\n",
        "  font-size: 24px;\n",
        "  font-weight: bold;\n",
        "  border-radius: 12px;\n",
        "  box-shadow: 0px 4px 10px rgba(0, 0, 0, 0.2);\n",
        "  text-align: center;\n",
        "  text-shadow: 0 0 5px #8B5DFF, 0 0 5px #8B5DFF, 0 0 7px #8B5DFF;\n",
        "\">\n",
        "  How does our data look...?\n",
        "</h2>"
      ],
      "metadata": {
        "id": "2jjBtoBbe4_h"
      }
    },
    {
      "cell_type": "code",
      "source": [
        "carbon.head()"
      ],
      "metadata": {
        "trusted": true,
        "execution": {
          "iopub.status.busy": "2025-06-22T10:57:53.358559Z",
          "iopub.execute_input": "2025-06-22T10:57:53.358808Z",
          "iopub.status.idle": "2025-06-22T10:57:53.399214Z",
          "shell.execute_reply.started": "2025-06-22T10:57:53.358789Z",
          "shell.execute_reply": "2025-06-22T10:57:53.398238Z"
        },
        "id": "Y_0dCRuse4_h"
      },
      "outputs": [],
      "execution_count": null
    },
    {
      "cell_type": "markdown",
      "source": [
        "<h2 style=\"\n",
        "  display: inline-block;\n",
        "  width: 90%;\n",
        "  padding: 15px 30px;\n",
        "  background: linear-gradient(to right, #393E46, #222831); /* Dark gradient */\n",
        "  color: white;\n",
        "  font-size: 24px;\n",
        "  font-weight: bold;\n",
        "  border-radius: 12px;\n",
        "  box-shadow: 0px 4px 10px rgba(0, 0, 0, 0.2);\n",
        "  text-align: center;\n",
        "  text-shadow: 0 0 5px #8B5DFF, 0 0 5px #8B5DFF, 0 0 7px #8B5DFF;\n",
        "\">\n",
        "  Shape and Size?\n",
        "</h2>"
      ],
      "metadata": {
        "id": "EeEcsj93e4_h"
      }
    },
    {
      "cell_type": "code",
      "source": [
        "print(carbon.shape)\n",
        "print(carbon.size)"
      ],
      "metadata": {
        "trusted": true,
        "execution": {
          "iopub.status.busy": "2025-06-22T10:57:53.401366Z",
          "iopub.execute_input": "2025-06-22T10:57:53.401689Z",
          "iopub.status.idle": "2025-06-22T10:57:53.407628Z",
          "shell.execute_reply.started": "2025-06-22T10:57:53.401661Z",
          "shell.execute_reply": "2025-06-22T10:57:53.406663Z"
        },
        "id": "9kz6blW8e4_h"
      },
      "outputs": [],
      "execution_count": null
    },
    {
      "cell_type": "markdown",
      "source": [
        "<h2 style=\"\n",
        "  display: inline-block;\n",
        "  width: 90%;\n",
        "  padding: 15px 30px;\n",
        "  background: linear-gradient(to right, #393E46, #222831); /* Dark gradient */\n",
        "  color: white;\n",
        "  font-size: 24px;\n",
        "  font-weight: bold;\n",
        "  border-radius: 12px;\n",
        "  box-shadow: 0px 4px 10px rgba(0, 0, 0, 0.2);\n",
        "  text-align: center;\n",
        "  text-shadow: 0 0 5px #8B5DFF, 0 0 5px #8B5DFF, 0 0 7px #8B5DFF;\n",
        "\">\n",
        "  Dataset Columns and their info\n",
        "</h2>"
      ],
      "metadata": {
        "id": "9alyZBQ0e4_h"
      }
    },
    {
      "cell_type": "code",
      "source": [
        "carbon.info()"
      ],
      "metadata": {
        "trusted": true,
        "execution": {
          "iopub.status.busy": "2025-06-22T10:57:53.408457Z",
          "iopub.execute_input": "2025-06-22T10:57:53.408736Z",
          "iopub.status.idle": "2025-06-22T10:57:53.443969Z",
          "shell.execute_reply.started": "2025-06-22T10:57:53.408707Z",
          "shell.execute_reply": "2025-06-22T10:57:53.443087Z"
        },
        "id": "oSbKO6vee4_h"
      },
      "outputs": [],
      "execution_count": null
    },
    {
      "cell_type": "markdown",
      "source": [
        "**we don't have any null values, so we don't have too clean data**"
      ],
      "metadata": {
        "id": "Sd4AwBkbe4_h"
      }
    },
    {
      "cell_type": "markdown",
      "source": [
        "<h2 style=\"\n",
        "  display: inline-block;\n",
        "  width: 90%;\n",
        "  padding: 15px 30px;\n",
        "  background: linear-gradient(to right, #393E46, #222831); /* Dark gradient */\n",
        "  color: white;\n",
        "  font-size: 24px;\n",
        "  font-weight: bold;\n",
        "  border-radius: 12px;\n",
        "  box-shadow: 0px 4px 10px rgba(0, 0, 0, 0.2);\n",
        "  text-align: center;\n",
        "  text-shadow: 0 0 5px #8B5DFF, 0 0 5px #8B5DFF, 0 0 7px #8B5DFF;\n",
        "\">\n",
        "  Check for duplicate..\n",
        "</h2>"
      ],
      "metadata": {
        "id": "LqMs4FGBe4_h"
      }
    },
    {
      "cell_type": "code",
      "source": [
        "carbon.duplicated().sum()"
      ],
      "metadata": {
        "trusted": true,
        "execution": {
          "iopub.status.busy": "2025-06-22T10:57:53.444885Z",
          "iopub.execute_input": "2025-06-22T10:57:53.445219Z",
          "iopub.status.idle": "2025-06-22T10:57:53.456917Z",
          "shell.execute_reply.started": "2025-06-22T10:57:53.445188Z",
          "shell.execute_reply": "2025-06-22T10:57:53.456102Z"
        },
        "id": "p9qNBXWKe4_h"
      },
      "outputs": [],
      "execution_count": null
    },
    {
      "cell_type": "markdown",
      "source": [
        "\n",
        "**Since we model the general relationship with our independent variables (x) and target (y). We will keep these values.**\n",
        "\n",
        "**it will help our model to fit the relationship.**\n"
      ],
      "metadata": {
        "id": "zE6K88Mre4_h"
      }
    },
    {
      "cell_type": "markdown",
      "source": [
        "<h2 style=\"\n",
        "  display: inline-block;\n",
        "  width: 90%;\n",
        "  padding: 15px 30px;\n",
        "  background: linear-gradient(to right, #393E46, #222831); /* Dark gradient */\n",
        "  color: white;\n",
        "  font-size: 24px;\n",
        "  font-weight: bold;\n",
        "  border-radius: 12px;\n",
        "  box-shadow: 0px 4px 10px rgba(0, 0, 0, 0.2);\n",
        "  text-align: center;\n",
        "  text-shadow: 0 0 5px #8B5DFF, 0 0 5px #8B5DFF, 0 0 7px #8B5DFF;\n",
        "\">\n",
        "  Unique values and count for categorical columns.\n",
        "</h2>"
      ],
      "metadata": {
        "id": "s43wD5Bre4_h"
      }
    },
    {
      "cell_type": "code",
      "source": [
        "cat_col = carbon.select_dtypes(\"object\")\n",
        "for col in cat_col.columns:\n",
        "    print(f\"name:{col}\\n{carbon[col].unique()}\")\n",
        "    print(f\"Count: {carbon[col].nunique()}\")\n",
        "    print(\"======\"*15)"
      ],
      "metadata": {
        "trusted": true,
        "execution": {
          "iopub.status.busy": "2025-06-22T10:57:53.458121Z",
          "iopub.execute_input": "2025-06-22T10:57:53.458816Z",
          "iopub.status.idle": "2025-06-22T10:57:53.481499Z",
          "shell.execute_reply.started": "2025-06-22T10:57:53.458793Z",
          "shell.execute_reply": "2025-06-22T10:57:53.480398Z"
        },
        "id": "7cfNsHtce4_h"
      },
      "outputs": [],
      "execution_count": null
    },
    {
      "cell_type": "markdown",
      "source": [
        "<h2 style=\"\n",
        "  display: inline-block;\n",
        "  width: 90%;\n",
        "  padding: 15px 30px;\n",
        "  background: linear-gradient(to right, #393E46, #222831); /* Dark gradient */\n",
        "  color: white;\n",
        "  font-size: 24px;\n",
        "  font-weight: bold;\n",
        "  border-radius: 12px;\n",
        "  box-shadow: 0px 4px 10px rgba(0, 0, 0, 0.2);\n",
        "  text-align: center;\n",
        "  text-shadow: 0 0 5px #8B5DFF, 0 0 5px #8B5DFF, 0 0 7px #8B5DFF;\n",
        "\">\n",
        "  Summary Stats\n",
        "</h2>"
      ],
      "metadata": {
        "id": "O09h7ALZe4_h"
      }
    },
    {
      "cell_type": "code",
      "source": [
        "carbon.describe()"
      ],
      "metadata": {
        "trusted": true,
        "execution": {
          "iopub.status.busy": "2025-06-22T10:57:53.482619Z",
          "iopub.execute_input": "2025-06-22T10:57:53.482928Z",
          "iopub.status.idle": "2025-06-22T10:57:53.521746Z",
          "shell.execute_reply.started": "2025-06-22T10:57:53.4829Z",
          "shell.execute_reply": "2025-06-22T10:57:53.520802Z"
        },
        "id": "9KabLK4Ee4_h"
      },
      "outputs": [],
      "execution_count": null
    },
    {
      "cell_type": "markdown",
      "source": [
        "## EDA(Exploratory Data Analysis)"
      ],
      "metadata": {
        "id": "vScZFHize4_h"
      }
    },
    {
      "cell_type": "markdown",
      "source": [
        "<h1 style=\"\n",
        "  display: inline-block;\n",
        "  width: 90%;\n",
        "  padding: 30px 30px;\n",
        "  background: linear-gradient(to right, #6EC6FF, #4A90E2); /* Soft blue gradient */\n",
        "  color: white;\n",
        "  font-size: 24px;\n",
        "  font-weight: bold;\n",
        "  border-radius: 12px;\n",
        "  box-shadow: 0px 4px 10px rgba(0, 0, 0, 0.2);\n",
        "  text-align: center;\n",
        "\">\n",
        " 🔎 EDA(Exploratory Data Analysis)\n",
        "</h1>"
      ],
      "metadata": {
        "id": "fOyPqG4le4_h"
      }
    },
    {
      "cell_type": "markdown",
      "source": [
        "Exploratory data analysis (EDA) is used by data scientists to analyze and investigate data sets and summarize their main characteristics, often employing data visualization methods."
      ],
      "metadata": {
        "id": "ypG7sVgNe4_h"
      }
    },
    {
      "cell_type": "code",
      "source": [
        "df = carbon.copy()\n",
        "df.head()"
      ],
      "metadata": {
        "trusted": true,
        "execution": {
          "iopub.status.busy": "2025-06-22T10:57:53.522754Z",
          "iopub.execute_input": "2025-06-22T10:57:53.5231Z",
          "iopub.status.idle": "2025-06-22T10:57:53.537624Z",
          "shell.execute_reply.started": "2025-06-22T10:57:53.523072Z",
          "shell.execute_reply": "2025-06-22T10:57:53.536726Z"
        },
        "id": "jn9YIHMRe4_h"
      },
      "outputs": [],
      "execution_count": null
    },
    {
      "cell_type": "markdown",
      "source": [
        "**Created a copy of the dataframe for EDA.**"
      ],
      "metadata": {
        "id": "1FaI99jbe4_h"
      }
    },
    {
      "cell_type": "markdown",
      "source": [
        "<h2 style=\"\n",
        "  display: inline-block;\n",
        "  width: 90%;\n",
        "  padding: 15px 30px;\n",
        "  background: linear-gradient(to right, #393E46, #222831); /* Dark gradient */\n",
        "  color: white;\n",
        "  font-size: 24px;\n",
        "  font-weight: bold;\n",
        "  border-radius: 12px;\n",
        "  box-shadow: 0px 4px 10px rgba(0, 0, 0, 0.2);\n",
        "  text-align: center;\n",
        "  text-shadow: 0 0 5px #8B5DFF, 0 0 5px #8B5DFF, 0 0 7px #8B5DFF;\n",
        "\">\n",
        "  Univariate Analysis\n",
        "</h2>"
      ],
      "metadata": {
        "id": "FCL9X9cUe4_h"
      }
    },
    {
      "cell_type": "markdown",
      "source": [
        "**Distributions of numerical columns.**"
      ],
      "metadata": {
        "id": "LD6yenXwe4_h"
      }
    },
    {
      "cell_type": "code",
      "source": [
        "num_col = df.select_dtypes(\"number\")\n",
        "\n",
        "for col in num_col:\n",
        "    plt.figure(figsize=(8, 4))\n",
        "    sns.histplot(df[col], kde=True)\n",
        "    plt.title(f'Distribution of {col}')\n",
        "    plt.xlabel(col)\n",
        "    plt.ylabel('Frequency')\n",
        "    plt.tight_layout()\n",
        "    plt.show()\n"
      ],
      "metadata": {
        "trusted": true,
        "execution": {
          "iopub.status.busy": "2025-06-22T10:57:53.541561Z",
          "iopub.execute_input": "2025-06-22T10:57:53.542528Z",
          "iopub.status.idle": "2025-06-22T10:57:56.040586Z",
          "shell.execute_reply.started": "2025-06-22T10:57:53.542477Z",
          "shell.execute_reply": "2025-06-22T10:57:56.039684Z"
        },
        "id": "O-gqnKxie4_h"
      },
      "outputs": [],
      "execution_count": null
    },
    {
      "cell_type": "markdown",
      "source": [
        "**Distributions of Categorical columns**"
      ],
      "metadata": {
        "id": "IzWtEcnbe4_i"
      }
    },
    {
      "cell_type": "code",
      "source": [
        "cat_col = df.drop(\"Model\", axis=1).select_dtypes(\"object\")\n",
        "sns.set_style(\"whitegrid\")\n",
        "for col in cat_col:\n",
        "    plt.figure(figsize=(12,5))\n",
        "    sns.countplot(data=df, x=col,order=df[col].value_counts().index)\n",
        "    plt.xlabel(col,fontsize=14)\n",
        "    plt.ylabel(\"count\")\n",
        "    plt.xticks(rotation=45, ha='right', fontsize=10)\n",
        "    plt.show()"
      ],
      "metadata": {
        "trusted": true,
        "execution": {
          "iopub.status.busy": "2025-06-22T10:57:56.041395Z",
          "iopub.execute_input": "2025-06-22T10:57:56.041624Z",
          "iopub.status.idle": "2025-06-22T10:57:57.561925Z",
          "shell.execute_reply.started": "2025-06-22T10:57:56.041607Z",
          "shell.execute_reply": "2025-06-22T10:57:57.561082Z"
        },
        "id": "rxV7SIO3e4_i"
      },
      "outputs": [],
      "execution_count": null
    },
    {
      "cell_type": "markdown",
      "source": [
        "<h2 style=\"\n",
        "  display: inline-block;\n",
        "  width: 90%;\n",
        "  padding: 15px 30px;\n",
        "  background: linear-gradient(to right, #393E46, #222831); /* Dark gradient */\n",
        "  color: white;\n",
        "  font-size: 24px;\n",
        "  font-weight: bold;\n",
        "  border-radius: 12px;\n",
        "  box-shadow: 0px 4px 10px rgba(0, 0, 0, 0.2);\n",
        "  text-align: center;\n",
        "  text-shadow: 0 0 5px #8B5DFF, 0 0 5px #8B5DFF, 0 0 7px #8B5DFF;\n",
        "\">\n",
        "  Bivariate & Multivariate Analysis\n",
        "</h2"
      ],
      "metadata": {
        "id": "ezYZJGIEe4_i"
      }
    },
    {
      "cell_type": "code",
      "source": [
        "sns.set(style=\"whitegrid\", context=\"notebook\", palette=\"muted\")\n",
        "\n",
        "sns.pairplot(\n",
        "    df.select_dtypes(include=\"number\"),\n",
        "    diag_kind=\"kde\",\n",
        "    kind=\"reg\",\n",
        "    plot_kws={'line_kws':{'color':'crimson'}, 'scatter_kws': {'alpha': 0.6}},\n",
        "    diag_kws={\"shade\": True},\n",
        "    corner=True,\n",
        "    height=2.8\n",
        ")\n",
        "\n",
        "plt.suptitle(\"📈 Relationship Matrix of Numeric Features\", fontsize=12, y=1.02)\n",
        "plt.show()\n"
      ],
      "metadata": {
        "trusted": true,
        "execution": {
          "iopub.status.busy": "2025-06-22T10:57:57.563095Z",
          "iopub.execute_input": "2025-06-22T10:57:57.563958Z",
          "iopub.status.idle": "2025-06-22T10:58:13.047058Z",
          "shell.execute_reply.started": "2025-06-22T10:57:57.563907Z",
          "shell.execute_reply": "2025-06-22T10:58:13.046132Z"
        },
        "id": "6chkryXUe4_i"
      },
      "outputs": [],
      "execution_count": null
    },
    {
      "cell_type": "markdown",
      "source": [
        "**Pair plot between numerical columns**"
      ],
      "metadata": {
        "id": "V8HgQm-pe4_i"
      }
    },
    {
      "cell_type": "markdown",
      "source": [
        "## Correaltion and Heatmap"
      ],
      "metadata": {
        "id": "xssyQgtJe4_k"
      }
    },
    {
      "cell_type": "code",
      "source": [
        "corr_df  = num_col.corr()\n",
        "corr_df.style.background_gradient(\"coolwarm\")"
      ],
      "metadata": {
        "trusted": true,
        "execution": {
          "iopub.status.busy": "2025-06-22T10:58:13.048005Z",
          "iopub.execute_input": "2025-06-22T10:58:13.048292Z",
          "iopub.status.idle": "2025-06-22T10:58:13.336381Z",
          "shell.execute_reply.started": "2025-06-22T10:58:13.048272Z",
          "shell.execute_reply": "2025-06-22T10:58:13.335387Z"
        },
        "id": "pM-9H6Y8e4_l"
      },
      "outputs": [],
      "execution_count": null
    },
    {
      "cell_type": "code",
      "source": [
        "plt.figure(figsize=(15,7))\n",
        "sns.heatmap(corr_df,annot=True, cmap='coolwarm')"
      ],
      "metadata": {
        "trusted": true,
        "execution": {
          "iopub.status.busy": "2025-06-22T10:58:13.33737Z",
          "iopub.execute_input": "2025-06-22T10:58:13.337841Z",
          "iopub.status.idle": "2025-06-22T10:58:13.882859Z",
          "shell.execute_reply.started": "2025-06-22T10:58:13.337815Z",
          "shell.execute_reply": "2025-06-22T10:58:13.881953Z"
        },
        "id": "NFL6uqoNe4_l"
      },
      "outputs": [],
      "execution_count": null
    },
    {
      "cell_type": "code",
      "source": [
        "corr = pd.DataFrame(df[num_col.columns].corr()['CO2 Emissions(g/km)'].sort_values(ascending=False)).reset_index()\n",
        "corr.columns = ['Feature', 'Correlation']\n",
        "corr"
      ],
      "metadata": {
        "trusted": true,
        "execution": {
          "iopub.status.busy": "2025-06-22T10:58:13.884127Z",
          "iopub.execute_input": "2025-06-22T10:58:13.884473Z",
          "iopub.status.idle": "2025-06-22T10:58:13.897929Z",
          "shell.execute_reply.started": "2025-06-22T10:58:13.884448Z",
          "shell.execute_reply": "2025-06-22T10:58:13.897197Z"
        },
        "id": "y_abvk6qe4_l"
      },
      "outputs": [],
      "execution_count": null
    },
    {
      "cell_type": "markdown",
      "source": [
        "**As we can see, all features are highly correlated with our target variable, except Fuel Consumption Comb (mpg), and that is okay cause it hase inverse relationship: lower the mpg, the higher the CO₂ consumption, and vice versa**"
      ],
      "metadata": {
        "id": "h0ASJ1UOe4_l"
      }
    },
    {
      "cell_type": "markdown",
      "source": [
        "<h2 style=\"\n",
        "  display: inline-block;\n",
        "  width: 90%;\n",
        "  padding: 20px 40px;\n",
        "  background: linear-gradient(to right, rgba(57, 62, 70, 0.3), rgba(34, 40, 49, 0.3)); /* Softer transparency */\n",
        "  color: white;\n",
        "  font-size: 28px;\n",
        "  font-weight: bold;\n",
        "  border-radius: 16px;\n",
        "  box-shadow: 0px 6px 15px rgba(0, 0, 0, 0.25);\n",
        "  text-align: center;\n",
        "  text-shadow: 0 0 7px #8B5DFF, 0 0 12px #8B5DFF, 0 0 15px #8B5DFF;\n",
        "  backdrop-filter: blur(15px);\n",
        "  letter-spacing: 1.5px;\n",
        "  border: 2px solid rgba(255, 255, 255, 0.3);\n",
        "\">\n",
        "   Mean of CO₂ Emissions (g/km) by Categorical Columns.\n",
        "</h2>\n"
      ],
      "metadata": {
        "id": "2rrORcTre4_l"
      }
    },
    {
      "cell_type": "code",
      "source": [
        "for col in cat_col:\n",
        "    data_grp = df.groupby(col)['CO2 Emissions(g/km)'].mean().round(1).reset_index()\n",
        "    grouped_ = data_grp.sort_values(by='CO2 Emissions(g/km)',ascending=False)\n",
        "    plt.figure(figsize=(18,8))\n",
        "    ax = sns.barplot(data=grouped_,x=col, y='CO2 Emissions(g/km)')\n",
        "    ax.bar_label(ax.containers[0], rotation=90)\n",
        "    plt.xlabel(col)\n",
        "    plt.ylabel('target_mean CO₂')\n",
        "    plt.xticks(rotation=45)\n",
        "    sns.despine()\n",
        "    plt.tight_layout()\n",
        "    plt.show()"
      ],
      "metadata": {
        "trusted": true,
        "execution": {
          "iopub.status.busy": "2025-06-22T10:58:13.898869Z",
          "iopub.execute_input": "2025-06-22T10:58:13.899213Z",
          "iopub.status.idle": "2025-06-22T10:58:16.16061Z",
          "shell.execute_reply.started": "2025-06-22T10:58:13.899186Z",
          "shell.execute_reply": "2025-06-22T10:58:16.159598Z"
        },
        "id": "EyVI6cJje4_l"
      },
      "outputs": [],
      "execution_count": null
    },
    {
      "cell_type": "markdown",
      "source": [
        "<h2 style=\"\n",
        "  display: inline-block;\n",
        "  width: 90%;\n",
        "  padding: 20px 40px;\n",
        "  background: linear-gradient(to right, rgba(57, 62, 70, 0.3), rgba(34, 40, 49, 0.3)); /* Softer transparency */\n",
        "  color: white;\n",
        "  font-size: 28px;\n",
        "  font-weight: bold;\n",
        "  border-radius: 16px;\n",
        "  box-shadow: 0px 6px 15px rgba(0, 0, 0, 0.25);\n",
        "  text-align: center;\n",
        "  text-shadow: 0 0 7px #8B5DFF, 0 0 12px #8B5DFF, 0 0 15px #8B5DFF;\n",
        "  backdrop-filter: blur(15px);\n",
        "  letter-spacing: 1.5px;\n",
        "  border: 2px solid rgba(255, 255, 255, 0.3);\n",
        "\">\n",
        "   Crosstab between categorical columns and Co2.\n",
        "</h2>"
      ],
      "metadata": {
        "id": "FL2Yesl2e4_l"
      }
    },
    {
      "cell_type": "code",
      "source": [
        "df['CO2_Category'] = pd.qcut(df['CO2 Emissions(g/km)'], q=4, labels=['Low', 'Medium', 'High', 'Very High'])\n",
        "for col in cat_col.columns:\n",
        "    print(f\"\\n Crosstab between {col} and CO2_Category:\\n\")\n",
        "    ct = pd.crosstab(df[col], df['CO2_Category'], margins=True)\n",
        "    print(ct)"
      ],
      "metadata": {
        "trusted": true,
        "execution": {
          "iopub.status.busy": "2025-06-22T10:58:16.161586Z",
          "iopub.execute_input": "2025-06-22T10:58:16.161846Z",
          "iopub.status.idle": "2025-06-22T10:58:16.29781Z",
          "shell.execute_reply.started": "2025-06-22T10:58:16.161826Z",
          "shell.execute_reply": "2025-06-22T10:58:16.296825Z"
        },
        "id": "1068MWpWe4_l"
      },
      "outputs": [],
      "execution_count": null
    },
    {
      "cell_type": "markdown",
      "source": [
        "##  Feature Engineering -(Preprocessing)"
      ],
      "metadata": {
        "id": "EVif8x22e4_l"
      }
    },
    {
      "cell_type": "markdown",
      "source": [
        "<h1 style=\"\n",
        "  display: inline-block;\n",
        "  width: 90%;\n",
        "  padding: 15px 30px;\n",
        "  background: linear-gradient(to right, #393E46, #222831); /* Dark gradient */\n",
        "  color: white;\n",
        "  font-size: 24px;\n",
        "  font-weight: bold;\n",
        "  border-radius: 12px;\n",
        "  box-shadow: 0px 4px 10px rgba(0, 0, 0, 0.2);\n",
        "  text-align: center;\n",
        "  text-shadow: 0 0 5px #8B5DFF, 0 0 5px #8B5DFF, 0 0 7px #8B5DFF;\n",
        "\">\n",
        "  Feature Engineering -(Preprocessing)\n",
        "</h1>"
      ],
      "metadata": {
        "id": "wfV5233Ke4_l"
      }
    },
    {
      "cell_type": "code",
      "source": [
        "x = carbon.drop(columns= [\"CO2 Emissions(g/km)\",\"Model\",\"Make\"])\n",
        "y = carbon[\"CO2 Emissions(g/km)\"]"
      ],
      "metadata": {
        "trusted": true,
        "execution": {
          "iopub.status.busy": "2025-06-22T10:58:16.298909Z",
          "iopub.execute_input": "2025-06-22T10:58:16.299304Z",
          "iopub.status.idle": "2025-06-22T10:58:16.305313Z",
          "shell.execute_reply.started": "2025-06-22T10:58:16.299277Z",
          "shell.execute_reply": "2025-06-22T10:58:16.304558Z"
        },
        "id": "NcO1qaWhe4_l"
      },
      "outputs": [],
      "execution_count": null
    },
    {
      "cell_type": "markdown",
      "source": [
        "<h2 style=\"\n",
        "  display: inline-block;\n",
        "  width: 90%;\n",
        "  padding: 15px 30px;\n",
        "  background: linear-gradient(to right, #393E46, #222831); /* Dark gradient */\n",
        "  color: white;\n",
        "  font-size: 24px;\n",
        "  font-weight: bold;\n",
        "  border-radius: 12px;\n",
        "  box-shadow: 0px 4px 10px rgba(0, 0, 0, 0.2);\n",
        "  text-align: center;\n",
        "  text-shadow: 0 0 5px #8B5DFF, 0 0 5px #8B5DFF, 0 0 7px #8B5DFF;\n",
        "\">\n",
        "  Train_Test_Split\n",
        "</h2>"
      ],
      "metadata": {
        "id": "HxrAEgOAe4_l"
      }
    },
    {
      "cell_type": "code",
      "source": [
        "#train_test_split\n",
        "X_train, x_test, y_train, y_test = train_test_split(x, y, test_size=0.2, random_state=42)"
      ],
      "metadata": {
        "trusted": true,
        "execution": {
          "iopub.status.busy": "2025-06-22T10:58:16.306134Z",
          "iopub.execute_input": "2025-06-22T10:58:16.306504Z",
          "iopub.status.idle": "2025-06-22T10:58:16.324841Z",
          "shell.execute_reply.started": "2025-06-22T10:58:16.306477Z",
          "shell.execute_reply": "2025-06-22T10:58:16.324096Z"
        },
        "id": "6YKCB69_e4_l"
      },
      "outputs": [],
      "execution_count": null
    },
    {
      "cell_type": "code",
      "source": [
        "#select_dtypes columns for the further pipeline building\n",
        "from sklearn.compose import make_column_selector as selector\n",
        "num_features = selector(dtype_include=\"number\")(x)\n",
        "cat_features = selector(dtype_include=\"object\")(x)"
      ],
      "metadata": {
        "trusted": true,
        "execution": {
          "iopub.status.busy": "2025-06-22T10:58:16.325707Z",
          "iopub.execute_input": "2025-06-22T10:58:16.325978Z",
          "iopub.status.idle": "2025-06-22T10:58:16.352939Z",
          "shell.execute_reply.started": "2025-06-22T10:58:16.325954Z",
          "shell.execute_reply": "2025-06-22T10:58:16.351965Z"
        },
        "id": "CmfLC5mie4_l"
      },
      "outputs": [],
      "execution_count": null
    },
    {
      "cell_type": "markdown",
      "source": [
        "<h2 style=\"\n",
        "  display: inline-block;\n",
        "  width: 90%;\n",
        "  padding: 15px 30px;\n",
        "  background: linear-gradient(to right, #393E46, #222831); /* Dark gradient */\n",
        "  color: white;\n",
        "  font-size: 24px;\n",
        "  font-weight: bold;\n",
        "  border-radius: 12px;\n",
        "  box-shadow: 0px 4px 10px rgba(0, 0, 0, 0.2);\n",
        "  text-align: center;\n",
        "  text-shadow: 0 0 5px #8B5DFF, 0 0 5px #8B5DFF, 0 0 7px #8B5DFF;\n",
        "\">\n",
        "  Building Preprocessing Pipeline\n",
        "</h2>"
      ],
      "metadata": {
        "id": "f_5wU3eBe4_l"
      }
    },
    {
      "cell_type": "code",
      "source": [
        "from sklearn.preprocessing import StandardScaler, OneHotEncoder\n",
        "from sklearn.compose import ColumnTransformer\n",
        "from sklearn.pipeline import Pipeline\n",
        "\n",
        "num_trans = StandardScaler()\n",
        "cat_trans = OneHotEncoder(handle_unknown='ignore', sparse_output=False)\n",
        "\n",
        "preprocessor = ColumnTransformer([\n",
        "    ('num_f',num_trans,num_features),\n",
        "    ('cat_f',cat_trans,cat_features)\n",
        "])"
      ],
      "metadata": {
        "trusted": true,
        "execution": {
          "iopub.status.busy": "2025-06-22T10:58:16.354377Z",
          "iopub.execute_input": "2025-06-22T10:58:16.354651Z",
          "iopub.status.idle": "2025-06-22T10:58:16.359419Z",
          "shell.execute_reply.started": "2025-06-22T10:58:16.354632Z",
          "shell.execute_reply": "2025-06-22T10:58:16.358536Z"
        },
        "id": "po0Q3j43e4_l"
      },
      "outputs": [],
      "execution_count": null
    },
    {
      "cell_type": "markdown",
      "source": [
        "<h2 style=\"\n",
        "  display: inline-block;\n",
        "  width: 90%;\n",
        "  padding: 15px 30px;\n",
        "  background: linear-gradient(to right, #393E46, #222831); /* Dark gradient */\n",
        "  color: white;\n",
        "  font-size: 24px;\n",
        "  font-weight: bold;\n",
        "  border-radius: 12px;\n",
        "  box-shadow: 0px 4px 10px rgba(0, 0, 0, 0.2);\n",
        "  text-align: center;\n",
        "  text-shadow: 0 0 5px #8B5DFF, 0 0 5px #8B5DFF, 0 0 7px #8B5DFF;\n",
        "\">\n",
        "  Building Model Pipeline with Cross-Validation\n",
        "</h2>"
      ],
      "metadata": {
        "id": "rlRQOV79e4_l"
      }
    },
    {
      "cell_type": "code",
      "source": [
        "models = {'linear':LinearRegression(),\n",
        "          'Ridge' :Ridge(),\n",
        "          'Lasso' :Lasso(),\n",
        "          'Elastic_Net': ElasticNet()}\n",
        "result = []\n",
        "for name, model in models.items():\n",
        "        pipe = Pipeline([\n",
        "            ('preprocessor',preprocessor),\n",
        "            ('model',model)\n",
        "        ])\n",
        "        scores = cross_val_score(pipe,X_train,y_train,scoring= 'neg_root_mean_squared_error', cv=5)\n",
        "        result.append({'Name': name,'RMSE_CV_Avg': -scores.mean()})\n",
        "\n",
        "rmse_avg_cv  = pd.DataFrame(result)\n",
        "rmse_avg_cv"
      ],
      "metadata": {
        "trusted": true,
        "execution": {
          "iopub.status.busy": "2025-06-22T10:58:16.360216Z",
          "iopub.execute_input": "2025-06-22T10:58:16.360681Z",
          "iopub.status.idle": "2025-06-22T10:58:17.611168Z",
          "shell.execute_reply.started": "2025-06-22T10:58:16.360655Z",
          "shell.execute_reply": "2025-06-22T10:58:17.610288Z"
        },
        "id": "PZMlrRX5e4_l"
      },
      "outputs": [],
      "execution_count": null
    },
    {
      "cell_type": "markdown",
      "source": [
        "**Here, what it means is that our target is off by the same number of units as our target.**\n",
        "\n",
        "\n",
        "**Example: Our RMSE is in the same unit.4.83 grams of CO₂/km**\n"
      ],
      "metadata": {
        "id": "pgvGCWsOe4_l"
      }
    },
    {
      "cell_type": "markdown",
      "source": [
        "## Modeling (choosing best and final model)"
      ],
      "metadata": {
        "id": "AAEI_NYxe4_l"
      }
    },
    {
      "cell_type": "markdown",
      "source": [
        "<h1 style=\"\n",
        "  display: inline-block;\n",
        "  width: 90%;\n",
        "  padding: 30px 30px;\n",
        "  background: linear-gradient(to right, #6EC6FF, #4A90E2); /* Soft blue gradient */\n",
        "  color: white;\n",
        "  font-size: 24px;\n",
        "  font-weight: bold;\n",
        "  border-radius: 12px;\n",
        "  box-shadow: 0px 4px 10px rgba(0, 0, 0, 0.2);\n",
        "  text-align: center;\n",
        "\">\n",
        "  🎯 Modeling (choosing best and final model)\n",
        "</h1>"
      ],
      "metadata": {
        "id": "VcVwTwzEe4_l"
      }
    },
    {
      "cell_type": "code",
      "source": [
        "final = Pipeline([\n",
        "    ('preprocessor',preprocessor),\n",
        "    ('model', Ridge())\n",
        "])\n",
        "\n",
        "final.fit(X_train,y_train)\n",
        "y_pred = final.predict(x_test)\n",
        "\n",
        "print(\"Test RMSE:\", mean_squared_error(y_test, y_pred, squared=False))\n",
        "print(\"MAE:\", mean_absolute_error(y_test, y_pred))\n",
        "print(\"R2 Score:\", r2_score(y_test, y_pred))"
      ],
      "metadata": {
        "trusted": true,
        "execution": {
          "iopub.status.busy": "2025-06-22T10:58:17.611984Z",
          "iopub.execute_input": "2025-06-22T10:58:17.612256Z",
          "iopub.status.idle": "2025-06-22T10:58:17.646468Z",
          "shell.execute_reply.started": "2025-06-22T10:58:17.612238Z",
          "shell.execute_reply": "2025-06-22T10:58:17.645675Z"
        },
        "id": "QqkDPVVie4_l"
      },
      "outputs": [],
      "execution_count": null
    },
    {
      "cell_type": "markdown",
      "source": [
        "**I have chosen Ridge() because it handles multicollinearity well!**"
      ],
      "metadata": {
        "id": "cjZ0DGjCe4_m"
      }
    },
    {
      "cell_type": "markdown",
      "source": [
        "<div style=\"font-family: 'Segoe UI', sans-serif; max-width:600px; margin:20px auto; border-radius:8px; overflow:hidden; box-shadow: 0 4px 12px rgba(0,0,0,0.1);\">\n",
        "  <table style=\"border-collapse: collapse; width:100%; text-align:left;\">\n",
        "    <thead style=\"background:#005b96; color:#fff;\">\n",
        "      <tr>\n",
        "        <th style=\"padding:12px;\">Metric</th>\n",
        "        <th style=\"padding:12px;\">Value</th>\n",
        "        <th style=\"padding:12px;\">What It Means</th>\n",
        "      </tr>\n",
        "    </thead>\n",
        "    <tbody style=\"font-size:15px;\">\n",
        "      <tr style=\"background:#f9f9f9;\">\n",
        "        <td style=\"padding:10px;\"><strong>RMSE</strong></td>\n",
        "        <td style=\"padding:10px;\">5.18 g/km</td>\n",
        "        <td style=\"padding:10px;\">Avg. deviation from actual CO₂ values — smaller means more accurate</td>\n",
        "      </tr>\n",
        "      <tr>\n",
        "        <td style=\"padding:10px;\"><strong>MAE</strong></td>\n",
        "        <td style=\"padding:10px;\">3.08 g/km</td>\n",
        "        <td style=\"padding:10px;\">Typical absolute error — model is usually off by ~3 g/km</td>\n",
        "      </tr>\n",
        "      <tr style=\"background:#f9f9f9;\">\n",
        "        <td style=\"padding:10px;\"><strong>R² Score</strong></td>\n",
        "        <td style=\"padding:10px;\">0.9922</td>\n",
        "        <td style=\"padding:10px;\">Explains 99.2% of the variance — near-perfect predictive power</td>\n",
        "      </tr>\n",
        "    </tbody>\n",
        "  </table>\n",
        "</div>\n"
      ],
      "metadata": {
        "id": "w0cy5Ekve4_m"
      }
    },
    {
      "cell_type": "markdown",
      "source": [
        "## Visualizations"
      ],
      "metadata": {
        "id": "32uCw1Sre4_m"
      }
    },
    {
      "cell_type": "markdown",
      "source": [
        "<h2 style=\"\n",
        "  display: inline-block;\n",
        "  width: 90%;\n",
        "  padding: 15px 30px;\n",
        "  background: linear-gradient(to right, #393E46, #222831); /* Dark gradient */\n",
        "  color: white;\n",
        "  font-size: 24px;\n",
        "  font-weight: bold;\n",
        "  border-radius: 12px;\n",
        "  box-shadow: 0px 4px 10px rgba(0, 0, 0, 0.2);\n",
        "  text-align: center;\n",
        "  text-shadow: 0 0 5px #8B5DFF, 0 0 5px #8B5DFF, 0 0 7px #8B5DFF;\n",
        "\">\n",
        "  Visualizations of Predicted Values and Residuals\n",
        "</h2>"
      ],
      "metadata": {
        "id": "GcUww295e4_m"
      }
    },
    {
      "cell_type": "code",
      "source": [
        "plt.figure(figsize=(8,6))\n",
        "sns.scatterplot(x=y_test, y=y_pred)\n",
        "plt.plot([y_test.min(), y_test.max()], [y_test.min(), y_test.max()], '--r')\n",
        "plt.xlabel(\"Actual CO₂ Emissions (g/km)\")\n",
        "plt.ylabel(\"Predicted CO₂ Emissions (g/km)\")\n",
        "plt.title(\"Actual vs Predicted CO₂ Emissions\")\n",
        "plt.grid(True)\n",
        "plt.show()\n",
        "\n",
        "residual = y_test-y_pred\n",
        "sns.histplot(residual, kde=True)\n",
        "plt.title(\"Distribution of Residuals\")\n",
        "plt.xlabel(\"CO₂\")\n",
        "plt.show()\n"
      ],
      "metadata": {
        "trusted": true,
        "execution": {
          "iopub.status.busy": "2025-06-22T10:58:17.647423Z",
          "iopub.execute_input": "2025-06-22T10:58:17.647657Z",
          "iopub.status.idle": "2025-06-22T10:58:18.390724Z",
          "shell.execute_reply.started": "2025-06-22T10:58:17.64764Z",
          "shell.execute_reply": "2025-06-22T10:58:18.389856Z"
        },
        "id": "BHmH9PZre4_m"
      },
      "outputs": [],
      "execution_count": null
    },
    {
      "cell_type": "code",
      "source": [
        "sns.residplot(x=y_pred, y= y_test - y_pred, lowess=True, line_kws={\"color\": \"red\"})\n",
        "plt.xlabel(\"Predicted values\")\n",
        "plt.ylabel(\"Residuals\")\n",
        "plt.title(\"Residual Plot\")\n",
        "plt.axhline(0, color='gray', linestyle='--')\n",
        "plt.show()"
      ],
      "metadata": {
        "trusted": true,
        "execution": {
          "iopub.status.busy": "2025-06-22T10:58:18.391541Z",
          "iopub.execute_input": "2025-06-22T10:58:18.391781Z",
          "iopub.status.idle": "2025-06-22T10:58:18.823103Z",
          "shell.execute_reply.started": "2025-06-22T10:58:18.391762Z",
          "shell.execute_reply": "2025-06-22T10:58:18.822333Z"
        },
        "id": "xjojyJhqe4_m"
      },
      "outputs": [],
      "execution_count": null
    },
    {
      "cell_type": "markdown",
      "source": [
        "<h2 style=\"\n",
        "  display: inline-block;\n",
        "  width: 90%;\n",
        "  padding: 15px 30px;\n",
        "  background: linear-gradient(to right, #393E46, #222831); /* Dark gradient */\n",
        "  color: white;\n",
        "  font-size: 24px;\n",
        "  font-weight: bold;\n",
        "  border-radius: 12px;\n",
        "  box-shadow: 0px 4px 10px rgba(0, 0, 0, 0.2);\n",
        "  text-align: center;\n",
        "  text-shadow: 0 0 5px #8B5DFF, 0 0 5px #8B5DFF, 0 0 7px #8B5DFF;\n",
        "\">\n",
        "  Features—Contributions and Importance\n",
        "</h2>"
      ],
      "metadata": {
        "id": "CyTdLDe_e4_m"
      }
    },
    {
      "cell_type": "code",
      "source": [
        "ohe = final.named_steps['preprocessor'].named_transformers_['cat_f']\n",
        "cat_feature_names = ohe.get_feature_names_out(cat_features)\n",
        "\n",
        "# Combine all feature names in correct order\n",
        "all_features = num_features + list(cat_feature_names)\n",
        "all_features"
      ],
      "metadata": {
        "trusted": true,
        "execution": {
          "iopub.status.busy": "2025-06-22T10:58:18.82411Z",
          "iopub.execute_input": "2025-06-22T10:58:18.82483Z",
          "iopub.status.idle": "2025-06-22T10:58:18.830829Z",
          "shell.execute_reply.started": "2025-06-22T10:58:18.824809Z",
          "shell.execute_reply": "2025-06-22T10:58:18.830241Z"
        },
        "id": "ZB2PQECke4_m"
      },
      "outputs": [],
      "execution_count": null
    },
    {
      "cell_type": "code",
      "source": [
        "model = final.named_steps['model']\n",
        "coef = pd.DataFrame({\n",
        "    'Feature': all_features,\n",
        "    'Coefficient': model.coef_\n",
        "})\n",
        "coef['abs_c'] = coef['Coefficient'].abs()\n",
        "coef  = coef.sort_values(by='abs_c',ascending=False).drop('abs_c',axis=1).reset_index(drop=True)\n",
        "coef.head(10)"
      ],
      "metadata": {
        "trusted": true,
        "execution": {
          "iopub.status.busy": "2025-06-22T10:58:18.831579Z",
          "iopub.execute_input": "2025-06-22T10:58:18.831772Z",
          "iopub.status.idle": "2025-06-22T10:58:18.860393Z",
          "shell.execute_reply.started": "2025-06-22T10:58:18.831756Z",
          "shell.execute_reply": "2025-06-22T10:58:18.859449Z"
        },
        "id": "yxEZGbr2e4_m"
      },
      "outputs": [],
      "execution_count": null
    },
    {
      "cell_type": "code",
      "source": [
        "plt.figure(figsize=(10,6))\n",
        "sns.barplot(data=coef.head(10), x='Coefficient', y='Feature')\n",
        "plt.title(f\"Top {10} Most Important Features\")\n",
        "plt.grid(True)\n",
        "plt.show()"
      ],
      "metadata": {
        "trusted": true,
        "execution": {
          "iopub.status.busy": "2025-06-22T10:58:18.86419Z",
          "iopub.execute_input": "2025-06-22T10:58:18.864434Z",
          "iopub.status.idle": "2025-06-22T10:58:19.155758Z",
          "shell.execute_reply.started": "2025-06-22T10:58:18.864417Z",
          "shell.execute_reply": "2025-06-22T10:58:19.154816Z"
        },
        "id": "G4Sbp1Rte4_m"
      },
      "outputs": [],
      "execution_count": null
    },
    {
      "cell_type": "markdown",
      "source": [
        "<h2 style=\"\n",
        "  display: inline-block;\n",
        "  width: 90%;\n",
        "  padding: 15px 30px;\n",
        "  background: linear-gradient(to right, #393E46, #222831); /* Dark gradient */\n",
        "  color: white;\n",
        "  font-size: 24px;\n",
        "  font-weight: bold;\n",
        "  border-radius: 12px;\n",
        "  box-shadow: 0px 4px 10px rgba(0, 0, 0, 0.2);\n",
        "  text-align: center;\n",
        "  text-shadow: 0 0 5px #8B5DFF, 0 0 5px #8B5DFF, 0 0 7px #8B5DFF;\n",
        "\">\n",
        "  Model Exporting.\n",
        "</h2>"
      ],
      "metadata": {
        "id": "3ijrgho3e4_m"
      }
    },
    {
      "cell_type": "code",
      "source": [
        "import joblib\n",
        "joblib.dump(final, 'co2_pipeline_model.pkl')\n"
      ],
      "metadata": {
        "trusted": true,
        "execution": {
          "iopub.status.busy": "2025-06-22T10:58:19.156902Z",
          "iopub.execute_input": "2025-06-22T10:58:19.157262Z",
          "iopub.status.idle": "2025-06-22T10:58:19.165788Z",
          "shell.execute_reply.started": "2025-06-22T10:58:19.157236Z",
          "shell.execute_reply": "2025-06-22T10:58:19.164873Z"
        },
        "id": "re00vVJCe4_m"
      },
      "outputs": [],
      "execution_count": null
    },
    {
      "cell_type": "markdown",
      "source": [
        "**Now the model has encoding + scaling + model in it. so this way, at a time of deployment**\n",
        "\n",
        "**input_dict = features in dictionary form**\n",
        "\n",
        "**user_input = pd.DataFrame([input_dict])**\n",
        "**prediction = model.predict(user_input)**\n",
        "\n",
        "**we don't expose this many features to users; the pipeline handles automatically**"
      ],
      "metadata": {
        "id": "ee8jAnste4_m"
      }
    },
    {
      "cell_type": "markdown",
      "source": [
        "## End Message"
      ],
      "metadata": {
        "id": "xbMRwVUhe4_m"
      }
    }
  ]
}