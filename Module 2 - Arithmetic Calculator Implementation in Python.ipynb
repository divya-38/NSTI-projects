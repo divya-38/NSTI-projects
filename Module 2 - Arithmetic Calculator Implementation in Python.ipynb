{
  "nbformat": 4,
  "nbformat_minor": 0,
  "metadata": {
    "colab": {
      "provenance": []
    },
    "kernelspec": {
      "name": "python3",
      "display_name": "Python 3"
    },
    "language_info": {
      "name": "python"
    }
  },
  "cells": [
    {
      "cell_type": "code",
      "execution_count": null,
      "metadata": {
        "colab": {
          "base_uri": "https://localhost:8080/"
        },
        "id": "uRGuUufJQysC",
        "outputId": "bfec1a56-bcbe-4f50-ad23-b5d660ebf564"
      },
      "outputs": [
        {
          "output_type": "stream",
          "name": "stdout",
          "text": [
            "Select operation:\n",
            "  1. Add\n",
            "  2. Subtract\n",
            "  3. Multiply\n",
            "  4. Divide\n",
            "Enter choice (1/2/3/4): 3\n",
            "Enter first number: 13\n",
            "Enter second number: 7\n",
            "13.0 * 7.0 = 91.0\n"
          ]
        }
      ],
      "source": [
        "# Module 2 - Arithmetic Calculator Implementation in Python\n",
        "#!/usr/bin/env python3\n",
        "\"\"\"\n",
        "Module 2: Arithmetic Calculator Mini-Project\n",
        "Implements basic operations with input validation and clean structure.\n",
        "\"\"\"\n",
        "\n",
        "from typing import Callable, Dict\n",
        "\n",
        "\n",
        "def add(x: float, y: float) -> float:\n",
        "    \"\"\"Return the sum of x and y.\"\"\"\n",
        "    return x + y\n",
        "\n",
        "\n",
        "def subtract(x: float, y: float) -> float:\n",
        "    \"\"\"Return x minus y.\"\"\"\n",
        "    return x - y\n",
        "\n",
        "\n",
        "def multiply(x: float, y: float) -> float:\n",
        "    \"\"\"Return the product of x and y.\"\"\"\n",
        "    return x * y\n",
        "\n",
        "\n",
        "def divide(x: float, y: float) -> float:\n",
        "    \"\"\"Return x divided by y; raise on division by zero.\"\"\"\n",
        "    if y == 0:\n",
        "        raise ZeroDivisionError(\"Cannot divide by zero.\")\n",
        "    return x / y\n",
        "\n",
        "\n",
        "def get_number(prompt: str) -> float:\n",
        "    \"\"\"Repeatedly prompt until a valid float is entered.\"\"\"\n",
        "    while True:\n",
        "        try:\n",
        "            return float(input(prompt))\n",
        "        except ValueError:\n",
        "            print(\"→ Invalid number. Please try again.\")\n",
        "\n",
        "\n",
        "def main() -> None:\n",
        "    operations: Dict[str, Callable[[float, float], float]] = {\n",
        "        \"1\": add,\n",
        "        \"2\": subtract,\n",
        "        \"3\": multiply,\n",
        "        \"4\": divide,\n",
        "    }\n",
        "    symbols: Dict[str, str] = {\n",
        "        \"1\": \"+\",\n",
        "        \"2\": \"-\",\n",
        "        \"3\": \"*\",\n",
        "        \"4\": \"/\",\n",
        "    }\n",
        "\n",
        "    print(\"Select operation:\")\n",
        "    for key, name in {\"1\": \"Add\", \"2\": \"Subtract\", \"3\": \"Multiply\", \"4\": \"Divide\"}.items():\n",
        "        print(f\"  {key}. {name}\")\n",
        "\n",
        "    choice = input(\"Enter choice (1/2/3/4): \").strip()\n",
        "    if choice not in operations:\n",
        "        print(\"→ Invalid choice. Exiting.\")\n",
        "        return\n",
        "\n",
        "    num1 = get_number(\"Enter first number: \")\n",
        "    num2 = get_number(\"Enter second number: \")\n",
        "\n",
        "    try:\n",
        "        result = operations[choice](num1, num2)\n",
        "    except ZeroDivisionError as e:\n",
        "        print(f\"→ Error: {e}\")\n",
        "    else:\n",
        "        symbol = symbols[choice]\n",
        "        print(f\"{num1} {symbol} {num2} = {result}\")\n",
        "\n",
        "\n",
        "if __name__ == \"__main__\":\n",
        "    main()\n"
      ]
    }
  ]
}